{
  "nbformat": 4,
  "nbformat_minor": 0,
  "metadata": {
    "colab": {
      "provenance": [],
      "authorship_tag": "ABX9TyNcA8H0zYNY2yhszOb1jq7K",
      "include_colab_link": true
    },
    "kernelspec": {
      "name": "python3",
      "display_name": "Python 3"
    },
    "language_info": {
      "name": "python"
    }
  },
  "cells": [
    {
      "cell_type": "markdown",
      "metadata": {
        "id": "view-in-github",
        "colab_type": "text"
      },
      "source": [
        "<a href=\"https://colab.research.google.com/github/BethGomez44/proyectoDataScience/blob/main/ProyectoDataScience.ipynb\" target=\"_parent\"><img src=\"https://colab.research.google.com/assets/colab-badge.svg\" alt=\"Open In Colab\"/></a>"
      ]
    },
    {
      "cell_type": "markdown",
      "source": [
        "# Proyecto Módulo 2. Análisis de Datos con Python\n",
        "#### Tema: Análisis de Sentimientos en Reseñas de Películas\n",
        "#### Objetivo:\n"
      ],
      "metadata": {
        "id": "oq0D3vVFqvMY"
      }
    },
    {
      "cell_type": "code",
      "execution_count": null,
      "metadata": {
        "id": "vahAHTaApsfY"
      },
      "outputs": [],
      "source": []
    }
  ]
}